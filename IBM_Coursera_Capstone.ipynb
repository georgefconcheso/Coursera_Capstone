{
 "cells": [
  {
   "cell_type": "markdown",
   "id": "ee9f3372-d5d9-4d44-a786-e034bc49a345",
   "metadata": {},
   "source": [
    "# IBM Coursera: Applied Data Science Capstone notebook"
   ]
  },
  {
   "cell_type": "markdown",
   "id": "839d9238-bd52-4af5-aeb6-8ca02c5883b8",
   "metadata": {},
   "source": [
    "*By: Jorge Fernandez*"
   ]
  },
  {
   "cell_type": "markdown",
   "id": "4c8f4f81-54bc-475e-be77-2a81412816dc",
   "metadata": {},
   "source": [
    "This notebook will serve as a basis for the capstone project to complete the IBM Data Science Professional Certificate"
   ]
  },
  {
   "cell_type": "code",
   "execution_count": 3,
   "id": "8345e618-1085-4e65-a844-2da034d22f0d",
   "metadata": {},
   "outputs": [],
   "source": [
    "import pandas as pd"
   ]
  },
  {
   "cell_type": "code",
   "execution_count": 4,
   "id": "c821efa5-bcc4-45c0-ae5b-daa4e776bd44",
   "metadata": {},
   "outputs": [],
   "source": [
    "import numpy as np"
   ]
  },
  {
   "cell_type": "code",
   "execution_count": 5,
   "id": "b4596137-6764-49ce-8cdf-19053b14c769",
   "metadata": {},
   "outputs": [
    {
     "name": "stdout",
     "output_type": "stream",
     "text": [
      "Hello Capstone Project Course\n"
     ]
    }
   ],
   "source": [
    "print('Hello Capstone Project Course')"
   ]
  },
  {
   "cell_type": "code",
   "execution_count": null,
   "id": "5b2a3b91-b949-4786-9fd5-f047abd6243c",
   "metadata": {},
   "outputs": [],
   "source": []
  }
 ],
 "metadata": {
  "kernelspec": {
   "display_name": "Python 3",
   "language": "python",
   "name": "python3"
  },
  "language_info": {
   "codemirror_mode": {
    "name": "ipython",
    "version": 3
   },
   "file_extension": ".py",
   "mimetype": "text/x-python",
   "name": "python",
   "nbconvert_exporter": "python",
   "pygments_lexer": "ipython3",
   "version": "3.8.8"
  }
 },
 "nbformat": 4,
 "nbformat_minor": 5
}
